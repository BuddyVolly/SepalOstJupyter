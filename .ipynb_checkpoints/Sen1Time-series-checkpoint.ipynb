{
 "cells": [
  {
   "cell_type": "markdown",
   "metadata": {},
   "source": [
    "# Open SAR Toolkit (OST) - Jupyter Notebook\n",
    "## Sentinel-1 large-scale time-series/timescan processing\n",
    "\n",
    "This note book is part 2 of the time-series/timescan creation. It requires that you already did the data inventory and download.\n",
    "\n",
    "Also note that the minimum requirements are 16GB of RAM as well as enough space for the end products.\n",
    "\n",
    "**The processing is split into 4 parts:**\n",
    "- **Step 1:** Creation of single Analysis-Ready-Data products\n",
    "- **Step 2:** Creation of time-series for each track\n",
    "- **Step 3:** Creation of time-series mosaics (optional, i.e. only in case of more than 1 track within the AOI)\n",
    "- **Step 4:** Creation of timescans (optional)"
   ]
  },
  {
   "cell_type": "markdown",
   "metadata": {},
   "source": [
    "### 1. (just execute) import python libs"
   ]
  },
  {
   "cell_type": "code",
   "execution_count": null,
   "metadata": {},
   "outputs": [],
   "source": [
    "# standard libs\n",
    "import os, glob\n",
    "\n",
    "# ost libs\n",
    "from ost.s1 import refine, grd2ardBatch, ts #, grd2ardBatch"
   ]
  },
  {
   "cell_type": "markdown",
   "metadata": {},
   "source": [
    "### 2. define project directory"
   ]
  },
  {
   "cell_type": "code",
   "execution_count": 1,
   "metadata": {},
   "outputs": [],
   "source": [
    "# the main project directory\n",
    "prjDir = '/home/vollrath/OSTdemo'\n",
    "\n",
    "# this is where we downloaded the original scenes\n",
    "dwnDir = '{}/download'.format(prjDir)\n",
    "\n",
    "# this folder will be used for the inventory shape files\n",
    "invDir = '{}/inventory'.format(prjDir)\n",
    "\n",
    "# this folder will be used for the processed data\n",
    "prcDir = '{}/processed'.format(prjDir)\n",
    "\n",
    "tmpDir = '/home/avollrath/tmp'"
   ]
  },
  {
   "cell_type": "markdown",
   "metadata": {},
   "source": [
    "### 3. set mosaic key (your favourite from data inventory)"
   ]
  },
  {
   "cell_type": "code",
   "execution_count": null,
   "metadata": {},
   "outputs": [],
   "source": [
    "# choose the orbit and pol info with most msoaics based (this comes from the data inventory)\n",
    "mosaicKey = 'ASCENDING_VVVH'\n",
    "invFile = glob.glob('{}/*_{}.shp'.format(invDir, mosaicKey))[0]"
   ]
  },
  {
   "cell_type": "markdown",
   "metadata": {},
   "source": [
    "### 4. set processing parameters"
   ]
  },
  {
   "cell_type": "code",
   "execution_count": null,
   "metadata": {},
   "outputs": [],
   "source": [
    "# processing parameters\n",
    "outResolution = 20                          # resolution of the output product in meters\n",
    "lsMap = True                                # layover/shadow mask generation (Boolean)\n",
    "spkFlt = False                              # speckle filtering on single images(Boolean)\n",
    "\n",
    "# 3 different output product types are available \n",
    "#  - RTC: radiometrically corrected for slope\n",
    "#  - GTCgamma: geometrically terrain corrected and compensated for ellipsoid curvature\n",
    "#  - GTCsigma: geometrically terrain corrected\n",
    "outPrdType = 'RTC'\n",
    "\n",
    "mtSpkFlt = True                             # multi-temporal speckle filtering on time-series (Boolean)\n",
    "toDB = True                                 # conversion of backscatter to decibel (recommended)\n",
    "dType = 'float32'                           # conversion of final products to float32, uint8 or uint16 datatype"
   ]
  },
  {
   "cell_type": "markdown",
   "metadata": {},
   "source": [
    "### 5. (just execute) Launch processing"
   ]
  },
  {
   "cell_type": "code",
   "execution_count": null,
   "metadata": {},
   "outputs": [],
   "source": [
    "grd2ArdBatch.grd2ArdBatch(invFile, dwnDir, prcDir, tmpDir, outResolution, outPrdType, lsMap, spkFlt)\n",
    "grd2ardBatch.ard2Ts(invFile, prcDir, tmpDir, mtSpkFlt, toDB, lsMap, dType)"
   ]
  },
  {
   "cell_type": "code",
   "execution_count": null,
   "metadata": {},
   "outputs": [],
   "source": []
  }
 ],
 "metadata": {
  "kernelspec": {
   "display_name": "Python 3",
   "language": "python",
   "name": "python3"
  },
  "language_info": {
   "codemirror_mode": {
    "name": "ipython",
    "version": 3
   },
   "file_extension": ".py",
   "mimetype": "text/x-python",
   "name": "python",
   "nbconvert_exporter": "python",
   "pygments_lexer": "ipython3",
   "version": "3.6.6"
  }
 },
 "nbformat": 4,
 "nbformat_minor": 2
}
