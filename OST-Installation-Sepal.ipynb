{
 "cells": [
  {
   "cell_type": "markdown",
   "metadata": {},
   "source": [
    "# Open SAR Toolkit (OST) - Jupyter notebook\n",
    "\n",
    "## Installation of OST on Sepal\n",
    "\n",
    "By executing the cells (no editing needed, just Shift+Enter), this jupyter notebook will install the Open SAR Toolkit in your SEPAL home folder "
   ]
  },
  {
   "cell_type": "markdown",
   "metadata": {},
   "source": [
    "### 1. Install python3 dependencies"
   ]
  },
  {
   "cell_type": "code",
   "execution_count": null,
   "metadata": {},
   "outputs": [],
   "source": [
    "!pip3 install pandas geopandas rtree tqdm psycopg2 fiona shapely gdal numpy rasterio --user"
   ]
  },
  {
   "cell_type": "markdown",
   "metadata": {},
   "source": [
    "### 2. Get OST from github\n"
   ]
  },
  {
   "cell_type": "code",
   "execution_count": null,
   "metadata": {},
   "outputs": [],
   "source": [
    "!mkdir ~/.ost; cd ~/.ost; git clone https://github.com/ESA-PhiLab/OpenSarToolkit.git\n",
    "!mkdir -p ~/.local/lib/python3.6/site-packages/ost/\n",
    "!ln -s ~/.ost/OpenSarToolkit/* ~/.local/lib/python3.6/site-packages/ost/"
   ]
  },
  {
   "cell_type": "markdown",
   "metadata": {},
   "source": [
    "### 3. Test import of modules"
   ]
  },
  {
   "cell_type": "code",
   "execution_count": null,
   "metadata": {},
   "outputs": [],
   "source": [
    "from ost.s1 import search, refine, download, grd2ard, ts\n",
    "from ost.helpers import raster, vector, scihub, helpers"
   ]
  }
 ],
 "metadata": {
  "kernelspec": {
   "display_name": "Python 3",
   "language": "python",
   "name": "python3"
  },
  "language_info": {
   "codemirror_mode": {
    "name": "ipython",
    "version": 3
   },
   "file_extension": ".py",
   "mimetype": "text/x-python",
   "name": "python",
   "nbconvert_exporter": "python",
   "pygments_lexer": "ipython3",
   "version": "3.6.6"
  }
 },
 "nbformat": 4,
 "nbformat_minor": 2
}
